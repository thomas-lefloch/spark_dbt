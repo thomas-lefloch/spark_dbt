{
 "cells": [
  {
   "cell_type": "code",
   "execution_count": 28,
   "id": "74454e31",
   "metadata": {},
   "outputs": [],
   "source": [
    "from pyspark.sql import SparkSession\n",
    "from pyspark.sql.functions import lower, year, abs, regexp, lit\n"
   ]
  },
  {
   "cell_type": "markdown",
   "id": "095cd5e6",
   "metadata": {},
   "source": [
    "## Création de l'environnement spark\n",
    "Les traitements sont éxécutés uniquement en local."
   ]
  },
  {
   "cell_type": "code",
   "execution_count": 29,
   "id": "88ab4003",
   "metadata": {},
   "outputs": [],
   "source": [
    "spark = SparkSession.builder.appName(\"ventes\").getOrCreate()\n",
    "spark.sparkContext.setLogLevel(\"ERROR\")"
   ]
  },
  {
   "cell_type": "markdown",
   "id": "4355e90b",
   "metadata": {},
   "source": [
    "## Import des donnés\n",
    "Le typage automatique nous convient."
   ]
  },
  {
   "cell_type": "code",
   "execution_count": 30,
   "id": "eec954a2",
   "metadata": {},
   "outputs": [
    {
     "name": "stdout",
     "output_type": "stream",
     "text": [
      "[('id_transaction', 'int'), ('client_nom', 'string'), ('client_age', 'int'), ('client_ville', 'string'), ('produit_nom', 'string'), ('produit_categorie', 'string'), ('produit_marque', 'string'), ('prix_catalogue', 'int'), ('magasin_nom', 'string'), ('magasin_type', 'string'), ('magasin_region', 'string'), ('date', 'date'), ('quantite', 'int'), ('montant_total', 'string')]\n",
      "root\n",
      " |-- id_transaction: integer (nullable = true)\n",
      " |-- client_nom: string (nullable = true)\n",
      " |-- client_age: integer (nullable = true)\n",
      " |-- client_ville: string (nullable = true)\n",
      " |-- produit_nom: string (nullable = true)\n",
      " |-- produit_categorie: string (nullable = true)\n",
      " |-- produit_marque: string (nullable = true)\n",
      " |-- prix_catalogue: integer (nullable = true)\n",
      " |-- magasin_nom: string (nullable = true)\n",
      " |-- magasin_type: string (nullable = true)\n",
      " |-- magasin_region: string (nullable = true)\n",
      " |-- date: date (nullable = true)\n",
      " |-- quantite: integer (nullable = true)\n",
      " |-- montant_total: string (nullable = true)\n",
      "\n"
     ]
    }
   ],
   "source": [
    "df = spark.read.csv(\"ventes.csv\", header=True, inferSchema=True)\n",
    "print(df.dtypes)\n",
    "df.printSchema()"
   ]
  },
  {
   "cell_type": "markdown",
   "id": "c6e4cfeb",
   "metadata": {},
   "source": [
    "## Lowercasing des colonnes de type string."
   ]
  },
  {
   "cell_type": "code",
   "execution_count": 31,
   "id": "49550661",
   "metadata": {},
   "outputs": [],
   "source": [
    "def get_string_columns(df_dtypes):\n",
    "    return map(lambda x: x[0], filter(lambda x: x[1] == \"string\", df_dtypes))"
   ]
  },
  {
   "cell_type": "code",
   "execution_count": 32,
   "id": "e8cc2841",
   "metadata": {},
   "outputs": [
    {
     "name": "stdout",
     "output_type": "stream",
     "text": [
      "+--------------+----------+----------+------------+-----------+-----------------+--------------+--------------+-------------+------------+--------------------+----------+--------+-------------+\n",
      "|id_transaction|client_nom|client_age|client_ville|produit_nom|produit_categorie|produit_marque|prix_catalogue|  magasin_nom|magasin_type|      magasin_region|      date|quantite|montant_total|\n",
      "+--------------+----------+----------+------------+-----------+-----------------+--------------+--------------+-------------+------------+--------------------+----------+--------+-------------+\n",
      "|             1|     alice|        25|       paris| ordinateur|     informatique|          dell|           800|boutique lyon|    physique|auvergne-rhône-alpes|2023-03-12|       2|         NULL|\n",
      "+--------------+----------+----------+------------+-----------+-----------------+--------------+--------------+-------------+------------+--------------------+----------+--------+-------------+\n",
      "only showing top 1 row\n"
     ]
    }
   ],
   "source": [
    "string_columns = get_string_columns(df.dtypes)\n",
    "for column in string_columns:\n",
    "    df = df.withColumn(column, lower(df[column]))\n",
    "    \n",
    "df.show(1)\n"
   ]
  },
  {
   "cell_type": "markdown",
   "id": "c2dfdb65",
   "metadata": {},
   "source": [
    "## Elimination des lignes où au moins une colonne est manquante\n"
   ]
  },
  {
   "cell_type": "code",
   "execution_count": 33,
   "id": "57f4ffe4",
   "metadata": {},
   "outputs": [
    {
     "data": {
      "text/plain": [
       "[('id_transaction', 'int'),\n",
       " ('client_nom', 'string'),\n",
       " ('client_age', 'int'),\n",
       " ('client_ville', 'string'),\n",
       " ('produit_nom', 'string'),\n",
       " ('produit_categorie', 'string'),\n",
       " ('produit_marque', 'string'),\n",
       " ('prix_catalogue', 'int'),\n",
       " ('magasin_nom', 'string'),\n",
       " ('magasin_type', 'string'),\n",
       " ('magasin_region', 'string'),\n",
       " ('date', 'date'),\n",
       " ('quantite', 'int')]"
      ]
     },
     "execution_count": 33,
     "metadata": {},
     "output_type": "execute_result"
    }
   ],
   "source": [
    "# on exclue la colonne \"montant_total\" qui contient forcément NULL\n",
    "df = df.drop(df.montant_total)\n",
    "df.dtypes"
   ]
  },
  {
   "cell_type": "code",
   "execution_count": 34,
   "id": "83cdf3f5",
   "metadata": {},
   "outputs": [
    {
     "name": "stdout",
     "output_type": "stream",
     "text": [
      "8 lignes supprimés\n"
     ]
    }
   ],
   "source": [
    "# on exclue toutes les lignes qui contienne une valeur null\n",
    "original_length = df.count()\n",
    "\n",
    "df = df.dropna(how=\"any\")\n",
    "without_nulls_length = df.count()\n",
    "\n",
    "print(original_length - without_nulls_length, \"lignes supprimés\")\n"
   ]
  },
  {
   "cell_type": "markdown",
   "id": "8593f6c8",
   "metadata": {},
   "source": [
    "## Elimination des lignes où la date d'achat est extravagante\n"
   ]
  },
  {
   "cell_type": "code",
   "execution_count": 35,
   "id": "ef302d4e",
   "metadata": {},
   "outputs": [
    {
     "name": "stdout",
     "output_type": "stream",
     "text": [
      "+----------+-----+\n",
      "|year(date)|count|\n",
      "+----------+-----+\n",
      "|      1745|    1|\n",
      "|      2023|  481|\n",
      "|      1632|    1|\n",
      "|      1742|    1|\n",
      "|      1852|    1|\n",
      "|      1821|    1|\n",
      "|      1702|    1|\n",
      "+----------+-----+\n",
      "\n",
      "Après la suppression des années extravagantes:\n",
      "+----------+-----+\n",
      "|year(date)|count|\n",
      "+----------+-----+\n",
      "|      2023|  481|\n",
      "+----------+-----+\n",
      "\n",
      "6 lignes supprimés\n"
     ]
    }
   ],
   "source": [
    "# On commence par observer la distribution des données\n",
    "df.groupBy(year(\"date\")).count().show()\n",
    "\n",
    "# On s'aperçoit que toutes les commandes ont été effectué en 2023 sauf 6.\n",
    "# Le matériel informatique n'existait pas à ce moment la.\n",
    "# On ne garde que les commandes éffectué en 2023\n",
    "original_length = df.count()\n",
    "\n",
    "df = df.filter(year(\"date\") == 2023)\n",
    "\n",
    "print(\"Après la suppression des années extravagantes:\")\n",
    "df.groupBy(year(\"date\")).count().show()\n",
    "print(original_length - df.count(), \"lignes supprimés\")"
   ]
  },
  {
   "cell_type": "markdown",
   "id": "6373164d",
   "metadata": {},
   "source": [
    "## Elimination des lignes présentant des anomalies"
   ]
  },
  {
   "cell_type": "code",
   "execution_count": 36,
   "id": "ba24ea91",
   "metadata": {},
   "outputs": [
    {
     "data": {
      "text/plain": [
       "[('id_transaction', 'int'),\n",
       " ('client_nom', 'string'),\n",
       " ('client_age', 'int'),\n",
       " ('client_ville', 'string'),\n",
       " ('produit_nom', 'string'),\n",
       " ('produit_categorie', 'string'),\n",
       " ('produit_marque', 'string'),\n",
       " ('prix_catalogue', 'int'),\n",
       " ('magasin_nom', 'string'),\n",
       " ('magasin_type', 'string'),\n",
       " ('magasin_region', 'string'),\n",
       " ('date', 'date'),\n",
       " ('quantite', 'int')]"
      ]
     },
     "execution_count": 36,
     "metadata": {},
     "output_type": "execute_result"
    }
   ],
   "source": [
    "df.dtypes"
   ]
  },
  {
   "cell_type": "code",
   "execution_count": 37,
   "id": "82df3622",
   "metadata": {},
   "outputs": [
    {
     "name": "stdout",
     "output_type": "stream",
     "text": [
      "10 lignes supprimés\n"
     ]
    }
   ],
   "source": [
    "# Commes les types des colonnes est inférer automatiquement.\n",
    "# On vérifie si les colonnes typées 'string' contiennent des numériques à la place de chaînes de caractères\n",
    "\n",
    "original_length = df.count()\n",
    "\n",
    "string_columns = get_string_columns(df.dtypes)\n",
    "for column in string_columns:\n",
    "    df = df.filter(~ regexp(df[column], lit(\"^[0-9]*$\")))\n",
    "\n",
    "print(original_length - df.count(), \"lignes supprimés\")"
   ]
  },
  {
   "cell_type": "code",
   "execution_count": 38,
   "id": "c76b4b71",
   "metadata": {},
   "outputs": [
    {
     "name": "stdout",
     "output_type": "stream",
     "text": [
      "+--------------+-----+\n",
      "|prix_catalogue|count|\n",
      "+--------------+-----+\n",
      "|         -1200|    1|\n",
      "|          -850|    1|\n",
      "|          -800|    1|\n",
      "|          -600|    3|\n",
      "|          -300|    2|\n",
      "|          -150|    1|\n",
      "|           150|   84|\n",
      "|           300|  102|\n",
      "|           600|   95|\n",
      "|           800|   87|\n",
      "|          1200|   94|\n",
      "+--------------+-----+\n",
      "\n",
      "+--------+-----+\n",
      "|quantite|count|\n",
      "+--------+-----+\n",
      "|       1|   97|\n",
      "|       3|  117|\n",
      "|       5|   86|\n",
      "|       4|   89|\n",
      "|       2|   82|\n",
      "+--------+-----+\n",
      "\n",
      "+----------+-----+\n",
      "|client_age|count|\n",
      "+----------+-----+\n",
      "|        31|  107|\n",
      "|        34|   82|\n",
      "|        40|   98|\n",
      "|       -25|    1|\n",
      "|       -29|    1|\n",
      "|        25|   81|\n",
      "|        29|  100|\n",
      "|     48781|    1|\n",
      "+----------+-----+\n",
      "\n"
     ]
    }
   ],
   "source": [
    "# On observe la répartition des colonnes typés \"integer\"\n",
    "\n",
    "df.groupBy(df.prix_catalogue).count().sort(df.prix_catalogue.asc()).show()\n",
    "# On observe que certaines valeurs sont négatives\n",
    "\n",
    "df.groupBy(\"quantite\").count().show()\n",
    "# Rien à signaler pour les quantités\n",
    "\n",
    "df.groupBy(\"client_age\").count().show()\n",
    "# Certaines valeurs sont négatives, et une personne à 48781 ans"
   ]
  },
  {
   "cell_type": "code",
   "execution_count": 39,
   "id": "237fba81",
   "metadata": {},
   "outputs": [
    {
     "name": "stdout",
     "output_type": "stream",
     "text": [
      "+----------+-----+\n",
      "|client_age|count|\n",
      "+----------+-----+\n",
      "|        40|   98|\n",
      "|        34|   82|\n",
      "|        31|  107|\n",
      "|        29|  100|\n",
      "|        25|   81|\n",
      "|       -25|    1|\n",
      "|       -29|    1|\n",
      "+----------+-----+\n",
      "\n"
     ]
    }
   ],
   "source": [
    "# on supprime les ages supérieur à 125 ans\n",
    "df = df.filter(df.client_age < 125)\n",
    "df.groupBy(\"client_age\").count().sort(df.client_age.desc()).show()\n"
   ]
  },
  {
   "cell_type": "markdown",
   "id": "dfd0e41c",
   "metadata": {},
   "source": [
    "## Normalisation (négatif -> positif) de `client_age` et `prix_catalogue` "
   ]
  },
  {
   "cell_type": "code",
   "execution_count": 40,
   "id": "de48d8e9",
   "metadata": {},
   "outputs": [
    {
     "name": "stdout",
     "output_type": "stream",
     "text": [
      "Après normalisation: \n",
      "+----------+\n",
      "|client_age|\n",
      "+----------+\n",
      "+----------+\n",
      "\n"
     ]
    }
   ],
   "source": [
    "columns = [\"client_age\", \"prix_catalogue\"]\n",
    "\n",
    "for column in columns:\n",
    "    df = df.withColumn(column, abs(df[column]))\n",
    "\n",
    "print(\"Après normalisation: \")\n",
    "df.select(\"client_age\").where(df.client_age < 0).show()"
   ]
  },
  {
   "cell_type": "markdown",
   "id": "e0a01a7e",
   "metadata": {},
   "source": [
    "## Calcul du montant total pour chaque vente"
   ]
  },
  {
   "cell_type": "code",
   "execution_count": 41,
   "id": "46836643",
   "metadata": {},
   "outputs": [
    {
     "name": "stdout",
     "output_type": "stream",
     "text": [
      "+--------------+----------+----------+------------+-----------+-----------------+--------------+--------------+-------------+------------+--------------------+----------+--------+-------------+\n",
      "|id_transaction|client_nom|client_age|client_ville|produit_nom|produit_categorie|produit_marque|prix_catalogue|  magasin_nom|magasin_type|      magasin_region|      date|quantite|montant_total|\n",
      "+--------------+----------+----------+------------+-----------+-----------------+--------------+--------------+-------------+------------+--------------------+----------+--------+-------------+\n",
      "|             1|     alice|        25|       paris| ordinateur|     informatique|          dell|           800|boutique lyon|    physique|auvergne-rhône-alpes|2023-03-12|       2|         1600|\n",
      "+--------------+----------+----------+------------+-----------+-----------------+--------------+--------------+-------------+------------+--------------------+----------+--------+-------------+\n",
      "only showing top 1 row\n"
     ]
    }
   ],
   "source": [
    "# montant_total = prix * quantite\n",
    "df = df.withColumn(\"montant_total\", df[\"prix_catalogue\"] * df [\"quantite\"])\n",
    "df.show(1)"
   ]
  },
  {
   "cell_type": "markdown",
   "id": "2c2223c9",
   "metadata": {},
   "source": [
    "## Enregistrement dans DuckDB"
   ]
  },
  {
   "cell_type": "code",
   "execution_count": 42,
   "id": "e202e2b1",
   "metadata": {},
   "outputs": [],
   "source": [
    "import duckdb\n",
    "\n",
    "# on écrit dans le projet dbt\n",
    "db_path = \"ventes/ventes_clean.duckdb\""
   ]
  },
  {
   "cell_type": "code",
   "execution_count": 43,
   "id": "acb64ddc",
   "metadata": {},
   "outputs": [
    {
     "name": "stdout",
     "output_type": "stream",
     "text": [
      "470 lignes dans le dataframe\n",
      "[(470,)] lignes dans duckdb\n"
     ]
    }
   ],
   "source": [
    "pandas_df = df.toPandas()\n",
    "print(df.count(), \"lignes dans le dataframe\")\n",
    "\n",
    "with duckdb.connect(db_path) as con:\n",
    "    con.execute(\"CREATE OR REPLACE TABLE vente AS SELECT * FROM pandas_df\")\n",
    "    print(con.sql(\"SELECT count(*) FROM vente;\").fetchall(), \"lignes dans duckdb\")    "
   ]
  },
  {
   "cell_type": "markdown",
   "id": "455030e5",
   "metadata": {},
   "source": [
    "## Modélisation en étoile\n",
    "La donnée à les attributs suivants:"
   ]
  },
  {
   "cell_type": "code",
   "execution_count": 18,
   "id": "61e0892f",
   "metadata": {},
   "outputs": [
    {
     "name": "stdout",
     "output_type": "stream",
     "text": [
      "id_transaction, client_nom, client_age, client_ville, produit_nom, produit_categorie, produit_marque, prix_catalogue, magasin_nom, magasin_type, magasin_region, date, quantite, montant_total\n"
     ]
    }
   ],
   "source": [
    "print(\", \".join(map(lambda x: x[0], df.dtypes)))"
   ]
  },
  {
   "cell_type": "markdown",
   "id": "3b0059a6",
   "metadata": {},
   "source": [
    "On en déduit les tables de dimensions suivantes:\n",
    "- client (client_nom, client_age, client_ville)\n",
    "- produit (produit_nom, produit_categorie, produit_marque, prix_catalogue)\n",
    "- magasin (magasin_nom, magasin_type, magasin_region)\n",
    "\n",
    "La table de fait contient les attributs: \n",
    "- id_transaction, date, quantite, montant_total\n",
    "\n",
    "Voici le diagramme de notre schéma en étoile:\n",
    "\n",
    "![Diagrame Modélisation étoile](data:image/png;base64,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)"
   ]
  },
  {
   "cell_type": "markdown",
   "id": "91039287",
   "metadata": {},
   "source": [
    "## Structure du projet dbt\n",
    "```text\n",
    "ventes/\n",
    "├── models/\n",
    "|   └── dim/\n",
    "|   |   ├── dim_client.sql\n",
    "|   |   ├── dim_magasin.sql\n",
    "|   |   └── dim_produit.sql\n",
    "|   └── fact/\n",
    "|   |   └── fact_vente.sql\n",
    "|   └── stg/\n",
    "|       └── stg_vente.sql\n",
    "└── tests/\n",
    "```"
   ]
  },
  {
   "cell_type": "markdown",
   "id": "dd036f27",
   "metadata": {},
   "source": [
    "Voici le contenu des fichiers les plus importants"
   ]
  },
  {
   "cell_type": "code",
   "execution_count": null,
   "id": "4d2ccc5d",
   "metadata": {
    "vscode": {
     "languageId": "sql"
    }
   },
   "outputs": [],
   "source": [
    "-- stg_vente.sql\n",
    "-- Ce fichier récupère touts les données de la table vente. \n",
    "-- cela va nous servir de base pour alimenter les tables de dimensions et de fait\n",
    "select * from vente"
   ]
  },
  {
   "cell_type": "code",
   "execution_count": null,
   "id": "f7b82f3a",
   "metadata": {
    "vscode": {
     "languageId": "sql"
    }
   },
   "outputs": [],
   "source": [
    "-- dim_produit.sql\n",
    "-- contient les informations liés au produit\n",
    "-- on crée un id à partir du nom. On pourra facilement le recalculé dans la table de vente\n",
    "select\n",
    "    {{dbt_utils.generate_surrogate_key(['produit_nom'])}} as produit_id,\n",
    "    produit_nom, \n",
    "    produit_categorie, \n",
    "    produit_marque, \n",
    "    prix_catalogue \n",
    "from {{ref('stg_vente')}}"
   ]
  },
  {
   "cell_type": "code",
   "execution_count": null,
   "id": "b124bc13",
   "metadata": {
    "vscode": {
     "languageId": "sql"
    }
   },
   "outputs": [],
   "source": [
    "-- dim_client.sql\n",
    "-- contient les informations liés au client\n",
    "select \n",
    "    {{dbt_utils.generate_surrogate_key(['client_nom', 'client_age'])}} as client_id,\n",
    "    client_nom, \n",
    "    client_age, \n",
    "    client_ville \n",
    "from {{ref('stg_vente')}}"
   ]
  },
  {
   "cell_type": "code",
   "execution_count": null,
   "id": "7bb2bee9",
   "metadata": {
    "vscode": {
     "languageId": "sql"
    }
   },
   "outputs": [],
   "source": [
    "-- dim_magasin.sql\n",
    "-- contient les informations liés au magasin\n",
    "select \n",
    "    {{dbt_utils.generate_surrogate_key(['magasin_nom', 'magasin_region'])}} as magasin_id,\n",
    "    magasin_nom, \n",
    "    magasin_type,\n",
    "    magasin_region \n",
    "from {{ref('stg_vente')}}"
   ]
  },
  {
   "cell_type": "code",
   "execution_count": null,
   "id": "ec361593",
   "metadata": {
    "vscode": {
     "languageId": "sql"
    }
   },
   "outputs": [],
   "source": [
    "-- fact_vente.sql\n",
    "-- Contient les informations d'une transaction\n",
    "-- On recalcule les clé des différentes tables de dimensions. On s'en servira pour réaliser nos jointures\n",
    "select\n",
    "    id_transaction,\n",
    "    {{dbt_utils.generate_surrogate_key(['produit_nom'])}} as produit_id,\n",
    "    {{dbt_utils.generate_surrogate_key(['magasin_nom', 'magasin_region'])}} as magasin_id,\n",
    "    {{dbt_utils.generate_surrogate_key(['client_nom', 'client_age'])}} as client_id,\n",
    "    date,\n",
    "    quantite,\n",
    "    montant_total\n",
    "from {{ref('stg_vente')}}\n"
   ]
  },
  {
   "cell_type": "markdown",
   "id": "cb7d0b9b",
   "metadata": {},
   "source": [
    "avec la commande\n",
    "```sh\n",
    "dbt run\n",
    "```\n",
    "Dbt créera automatiquement les tables de dimensions et de fait à partir de la table `vente`"
   ]
  },
  {
   "cell_type": "markdown",
   "id": "dd2f90c4",
   "metadata": {},
   "source": [
    "## Analyse temporelle"
   ]
  },
  {
   "cell_type": "markdown",
   "id": "a5e64002",
   "metadata": {},
   "source": [
    "Quel est le chiffre d’affaires mensuel de la boutique ?"
   ]
  },
  {
   "cell_type": "code",
   "execution_count": null,
   "id": "211529b0",
   "metadata": {},
   "outputs": [],
   "source": []
  },
  {
   "cell_type": "markdown",
   "id": "7687c22e",
   "metadata": {},
   "source": [
    "Quels sont les mois les plus rentables de l’année ?\n"
   ]
  },
  {
   "cell_type": "code",
   "execution_count": null,
   "id": "bf45e172",
   "metadata": {},
   "outputs": [],
   "source": []
  },
  {
   "cell_type": "markdown",
   "id": "13d358fd",
   "metadata": {},
   "source": [
    "Quelle est l’évolution du panier moyen (montant_total / transaction) au fil du temps ?\n"
   ]
  },
  {
   "cell_type": "code",
   "execution_count": null,
   "id": "756bac1e",
   "metadata": {},
   "outputs": [],
   "source": []
  },
  {
   "cell_type": "markdown",
   "id": "1166a7f5",
   "metadata": {},
   "source": [
    "## Analyse produit"
   ]
  },
  {
   "cell_type": "markdown",
   "id": "2dbe57af",
   "metadata": {},
   "source": [
    "Quels sont les produits les plus vendus en quantité ?\n"
   ]
  },
  {
   "cell_type": "code",
   "execution_count": null,
   "id": "91db29a2",
   "metadata": {},
   "outputs": [],
   "source": []
  },
  {
   "cell_type": "markdown",
   "id": "15245550",
   "metadata": {},
   "source": [
    "Quels produits génèrent le plus de chiffre d’affaires ?\n"
   ]
  },
  {
   "cell_type": "code",
   "execution_count": null,
   "id": "5423a260",
   "metadata": {},
   "outputs": [],
   "source": []
  },
  {
   "cell_type": "markdown",
   "id": "1c3450fc",
   "metadata": {},
   "source": [
    "Quelles catégories de produits sont les plus populaires ?\n"
   ]
  },
  {
   "cell_type": "code",
   "execution_count": null,
   "id": "bbb56c18",
   "metadata": {},
   "outputs": [],
   "source": []
  },
  {
   "cell_type": "markdown",
   "id": "abed1462",
   "metadata": {},
   "source": [
    "## Analyse client"
   ]
  },
  {
   "cell_type": "markdown",
   "id": "ae8ce57c",
   "metadata": {},
   "source": [
    "Quelle est la répartition des ventes par tranche d’âge (10 ans) ?"
   ]
  },
  {
   "cell_type": "code",
   "execution_count": null,
   "id": "ee411743",
   "metadata": {},
   "outputs": [],
   "source": []
  },
  {
   "cell_type": "markdown",
   "id": "da729cbc",
   "metadata": {},
   "source": [
    "Quelle ville ou région génère le plus de ventes ?\n"
   ]
  },
  {
   "cell_type": "code",
   "execution_count": null,
   "id": "c7055228",
   "metadata": {},
   "outputs": [],
   "source": []
  }
 ],
 "metadata": {
  "kernelspec": {
   "display_name": "spark_dbt",
   "language": "python",
   "name": "python3"
  },
  "language_info": {
   "codemirror_mode": {
    "name": "ipython",
    "version": 3
   },
   "file_extension": ".py",
   "mimetype": "text/x-python",
   "name": "python",
   "nbconvert_exporter": "python",
   "pygments_lexer": "ipython3",
   "version": "3.13.7"
  }
 },
 "nbformat": 4,
 "nbformat_minor": 5
}
