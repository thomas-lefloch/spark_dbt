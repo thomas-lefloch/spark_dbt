{
 "cells": [
  {
   "cell_type": "code",
   "execution_count": 1,
   "id": "74454e31",
   "metadata": {},
   "outputs": [],
   "source": [
    "from pyspark.sql import SparkSession\n",
    "from pyspark.sql.functions import lower, year, abs, regexp, lit\n"
   ]
  },
  {
   "cell_type": "markdown",
   "id": "095cd5e6",
   "metadata": {},
   "source": [
    "## Création de l'environnement spark\n",
    "Les traitements sont éxécutés uniquement en local."
   ]
  },
  {
   "cell_type": "code",
   "execution_count": 2,
   "id": "88ab4003",
   "metadata": {},
   "outputs": [],
   "source": [
    "spark = SparkSession.builder.appName(\"ventes\").getOrCreate()\n",
    "spark.sparkContext.setLogLevel(\"ERROR\")"
   ]
  },
  {
   "cell_type": "markdown",
   "id": "4355e90b",
   "metadata": {},
   "source": [
    "## Import des donnés\n",
    "Le typage automatique nous convient."
   ]
  },
  {
   "cell_type": "code",
   "execution_count": 3,
   "id": "eec954a2",
   "metadata": {},
   "outputs": [
    {
     "name": "stdout",
     "output_type": "stream",
     "text": [
      "[('id_transaction', 'int'), ('client_nom', 'string'), ('client_age', 'int'), ('client_ville', 'string'), ('produit_nom', 'string'), ('produit_categorie', 'string'), ('produit_marque', 'string'), ('prix_catalogue', 'int'), ('magasin_nom', 'string'), ('magasin_type', 'string'), ('magasin_region', 'string'), ('date', 'date'), ('quantite', 'int'), ('montant_total', 'string')]\n",
      "root\n",
      " |-- id_transaction: integer (nullable = true)\n",
      " |-- client_nom: string (nullable = true)\n",
      " |-- client_age: integer (nullable = true)\n",
      " |-- client_ville: string (nullable = true)\n",
      " |-- produit_nom: string (nullable = true)\n",
      " |-- produit_categorie: string (nullable = true)\n",
      " |-- produit_marque: string (nullable = true)\n",
      " |-- prix_catalogue: integer (nullable = true)\n",
      " |-- magasin_nom: string (nullable = true)\n",
      " |-- magasin_type: string (nullable = true)\n",
      " |-- magasin_region: string (nullable = true)\n",
      " |-- date: date (nullable = true)\n",
      " |-- quantite: integer (nullable = true)\n",
      " |-- montant_total: string (nullable = true)\n",
      "\n"
     ]
    }
   ],
   "source": [
    "df = spark.read.csv(\"ventes.csv\", header=True, inferSchema=True)\n",
    "print(df.dtypes)\n",
    "df.printSchema()"
   ]
  },
  {
   "cell_type": "markdown",
   "id": "c6e4cfeb",
   "metadata": {},
   "source": [
    "## Lowercasing des colonnes de type string."
   ]
  },
  {
   "cell_type": "code",
   "execution_count": 4,
   "id": "49550661",
   "metadata": {},
   "outputs": [],
   "source": [
    "def get_string_columns(df_dtypes):\n",
    "    return map(lambda x: x[0], filter(lambda x: x[1] == \"string\", df_dtypes))"
   ]
  },
  {
   "cell_type": "code",
   "execution_count": 5,
   "id": "e8cc2841",
   "metadata": {},
   "outputs": [
    {
     "name": "stdout",
     "output_type": "stream",
     "text": [
      "+--------------+----------+----------+------------+-----------+-----------------+--------------+--------------+-------------+------------+--------------------+----------+--------+-------------+\n",
      "|id_transaction|client_nom|client_age|client_ville|produit_nom|produit_categorie|produit_marque|prix_catalogue|  magasin_nom|magasin_type|      magasin_region|      date|quantite|montant_total|\n",
      "+--------------+----------+----------+------------+-----------+-----------------+--------------+--------------+-------------+------------+--------------------+----------+--------+-------------+\n",
      "|             1|     alice|        25|       paris| ordinateur|     informatique|          dell|           800|boutique lyon|    physique|auvergne-rhône-alpes|2023-03-12|       2|         NULL|\n",
      "+--------------+----------+----------+------------+-----------+-----------------+--------------+--------------+-------------+------------+--------------------+----------+--------+-------------+\n",
      "only showing top 1 row\n"
     ]
    }
   ],
   "source": [
    "string_columns = get_string_columns(df.dtypes)\n",
    "for column in string_columns:\n",
    "    df = df.withColumn(column, lower(df[column]))\n",
    "    \n",
    "df.show(1)\n"
   ]
  },
  {
   "cell_type": "markdown",
   "id": "c2dfdb65",
   "metadata": {},
   "source": [
    "## Elimination des lignes où au moins une colonne est manquante\n"
   ]
  },
  {
   "cell_type": "code",
   "execution_count": 6,
   "id": "57f4ffe4",
   "metadata": {},
   "outputs": [
    {
     "data": {
      "text/plain": [
       "[('id_transaction', 'int'),\n",
       " ('client_nom', 'string'),\n",
       " ('client_age', 'int'),\n",
       " ('client_ville', 'string'),\n",
       " ('produit_nom', 'string'),\n",
       " ('produit_categorie', 'string'),\n",
       " ('produit_marque', 'string'),\n",
       " ('prix_catalogue', 'int'),\n",
       " ('magasin_nom', 'string'),\n",
       " ('magasin_type', 'string'),\n",
       " ('magasin_region', 'string'),\n",
       " ('date', 'date'),\n",
       " ('quantite', 'int')]"
      ]
     },
     "execution_count": 6,
     "metadata": {},
     "output_type": "execute_result"
    }
   ],
   "source": [
    "# on exclue la colonne \"montant_total\" qui contient forcément NULL\n",
    "df = df.drop(df.montant_total)\n",
    "df.dtypes"
   ]
  },
  {
   "cell_type": "code",
   "execution_count": 7,
   "id": "83cdf3f5",
   "metadata": {},
   "outputs": [
    {
     "name": "stdout",
     "output_type": "stream",
     "text": [
      "8 lignes supprimés\n"
     ]
    }
   ],
   "source": [
    "# on exclue toutes les lignes qui contienne une valeur null\n",
    "original_length = df.count()\n",
    "\n",
    "df = df.dropna(how=\"any\")\n",
    "without_nulls_length = df.count()\n",
    "\n",
    "print(original_length - without_nulls_length, \"lignes supprimés\")\n"
   ]
  },
  {
   "cell_type": "markdown",
   "id": "8593f6c8",
   "metadata": {},
   "source": [
    "## Elimination des lignes où la date d'achat est extravagante\n"
   ]
  },
  {
   "cell_type": "code",
   "execution_count": 8,
   "id": "ef302d4e",
   "metadata": {},
   "outputs": [
    {
     "name": "stdout",
     "output_type": "stream",
     "text": [
      "+----------+-----+\n",
      "|year(date)|count|\n",
      "+----------+-----+\n",
      "|      1745|    1|\n",
      "|      2023|  481|\n",
      "|      1632|    1|\n",
      "|      1742|    1|\n",
      "|      1852|    1|\n",
      "|      1821|    1|\n",
      "|      1702|    1|\n",
      "+----------+-----+\n",
      "\n",
      "Après la suppression des années extravagantes:\n",
      "+----------+-----+\n",
      "|year(date)|count|\n",
      "+----------+-----+\n",
      "|      2023|  481|\n",
      "+----------+-----+\n",
      "\n",
      "6 lignes supprimés\n"
     ]
    }
   ],
   "source": [
    "# On commence par observer la distribution des données\n",
    "df.groupBy(year(\"date\")).count().show()\n",
    "\n",
    "# On s'aperçoit que toutes les commandes ont été effectué en 2023 sauf 6.\n",
    "# Le matériel informatique n'existait pas à ce moment la.\n",
    "# On ne garde que les commandes éffectué en 2023\n",
    "original_length = df.count()\n",
    "\n",
    "df = df.filter(year(\"date\") == 2023)\n",
    "\n",
    "print(\"Après la suppression des années extravagantes:\")\n",
    "df.groupBy(year(\"date\")).count().show()\n",
    "print(original_length - df.count(), \"lignes supprimés\")"
   ]
  },
  {
   "cell_type": "markdown",
   "id": "6373164d",
   "metadata": {},
   "source": [
    "## Elimination des lignes présentant des anomalies"
   ]
  },
  {
   "cell_type": "code",
   "execution_count": 9,
   "id": "ba24ea91",
   "metadata": {},
   "outputs": [
    {
     "data": {
      "text/plain": [
       "[('id_transaction', 'int'),\n",
       " ('client_nom', 'string'),\n",
       " ('client_age', 'int'),\n",
       " ('client_ville', 'string'),\n",
       " ('produit_nom', 'string'),\n",
       " ('produit_categorie', 'string'),\n",
       " ('produit_marque', 'string'),\n",
       " ('prix_catalogue', 'int'),\n",
       " ('magasin_nom', 'string'),\n",
       " ('magasin_type', 'string'),\n",
       " ('magasin_region', 'string'),\n",
       " ('date', 'date'),\n",
       " ('quantite', 'int')]"
      ]
     },
     "execution_count": 9,
     "metadata": {},
     "output_type": "execute_result"
    }
   ],
   "source": [
    "df.dtypes"
   ]
  },
  {
   "cell_type": "code",
   "execution_count": 10,
   "id": "82df3622",
   "metadata": {},
   "outputs": [
    {
     "name": "stdout",
     "output_type": "stream",
     "text": [
      "10 lignes supprimés\n"
     ]
    }
   ],
   "source": [
    "# Commes les types des colonnes est inférer automatiquement.\n",
    "# On a juste besoin de vérifier si les colonnes typées 'string' contiennent des numériques à la place de chaînes de caractères\n",
    "\n",
    "original_length = df.count()\n",
    "\n",
    "string_columns = get_string_columns(df.dtypes)\n",
    "for column in string_columns:\n",
    "    df = df.filter(~ regexp(df[column], lit(\"^[0-9]*$\")))\n",
    "\n",
    "print(original_length - df.count(), \"lignes supprimés\")"
   ]
  },
  {
   "cell_type": "markdown",
   "id": "dfd0e41c",
   "metadata": {},
   "source": [
    "## Normalisation de l'âge (négatif -> positif)."
   ]
  },
  {
   "cell_type": "code",
   "execution_count": 11,
   "id": "de48d8e9",
   "metadata": {},
   "outputs": [
    {
     "name": "stdout",
     "output_type": "stream",
     "text": [
      "+----------+\n",
      "|client_age|\n",
      "+----------+\n",
      "|       -29|\n",
      "|       -25|\n",
      "+----------+\n",
      "\n",
      "Après normalisation: \n",
      "+----------+\n",
      "|client_age|\n",
      "+----------+\n",
      "+----------+\n",
      "\n"
     ]
    }
   ],
   "source": [
    "df.select(\"client_age\").where(df.client_age < 0).show()\n",
    "\n",
    "df = df.withColumn(\"client_age\", abs(df[\"client_age\"]))\n",
    "\n",
    "print(\"Après normalisation: \")\n",
    "df.select(\"client_age\").where(df.client_age < 0).show()"
   ]
  },
  {
   "cell_type": "markdown",
   "id": "e0a01a7e",
   "metadata": {},
   "source": [
    "## Calcul du montant total pour chaque vente"
   ]
  },
  {
   "cell_type": "code",
   "execution_count": 12,
   "id": "46836643",
   "metadata": {},
   "outputs": [
    {
     "name": "stdout",
     "output_type": "stream",
     "text": [
      "+--------------+----------+----------+------------+-----------+-----------------+--------------+--------------+-------------+------------+--------------------+----------+--------+-------------+\n",
      "|id_transaction|client_nom|client_age|client_ville|produit_nom|produit_categorie|produit_marque|prix_catalogue|  magasin_nom|magasin_type|      magasin_region|      date|quantite|montant_total|\n",
      "+--------------+----------+----------+------------+-----------+-----------------+--------------+--------------+-------------+------------+--------------------+----------+--------+-------------+\n",
      "|             1|     alice|        25|       paris| ordinateur|     informatique|          dell|           800|boutique lyon|    physique|auvergne-rhône-alpes|2023-03-12|       2|         1600|\n",
      "+--------------+----------+----------+------------+-----------+-----------------+--------------+--------------+-------------+------------+--------------------+----------+--------+-------------+\n",
      "only showing top 1 row\n"
     ]
    }
   ],
   "source": [
    "# montant_total = prix * quantite\n",
    "df = df.withColumn(\"montant_total\", df[\"prix_catalogue\"] * df [\"quantite\"])\n",
    "df.show(1)"
   ]
  },
  {
   "cell_type": "markdown",
   "id": "2c2223c9",
   "metadata": {},
   "source": [
    "## Enregistrement dans DuckDB"
   ]
  },
  {
   "cell_type": "code",
   "execution_count": null,
   "id": "e202e2b1",
   "metadata": {},
   "outputs": [],
   "source": [
    "import duckdb\n"
   ]
  },
  {
   "cell_type": "code",
   "execution_count": 19,
   "id": "acb64ddc",
   "metadata": {},
   "outputs": [
    {
     "name": "stdout",
     "output_type": "stream",
     "text": [
      "471 lignes dans le dataframe\n",
      "[(471,)] lignes dans duckdb\n"
     ]
    }
   ],
   "source": [
    "pandas_df = df.toPandas()\n",
    "print(df.count(), \"lignes dans le dataframe\")\n",
    "\n",
    "# on écrit dans le projet dbt\n",
    "db_path = \"ventes/ventes_clean.duckdb\"\n",
    "\n",
    "with duckdb.connect(db_path) as con:\n",
    "    con.execute(\"CREATE OR REPLACE TABLE vente AS SELECT * FROM pandas_df\")\n",
    "    print(con.sql(\"SELECT count(*) FROM vente;\").fetchall(), \"lignes dans duckdb\")    "
   ]
  },
  {
   "cell_type": "markdown",
   "id": "455030e5",
   "metadata": {},
   "source": [
    "## Création du schéma en étoile\n",
    "La donnée à les attributs suivants:"
   ]
  },
  {
   "cell_type": "code",
   "execution_count": 18,
   "id": "61e0892f",
   "metadata": {},
   "outputs": [
    {
     "name": "stdout",
     "output_type": "stream",
     "text": [
      "id_transaction, client_nom, client_age, client_ville, produit_nom, produit_categorie, produit_marque, prix_catalogue, magasin_nom, magasin_type, magasin_region, date, quantite, montant_total\n"
     ]
    }
   ],
   "source": [
    "print(\", \".join(map(lambda x: x[0], df.dtypes)))"
   ]
  },
  {
   "cell_type": "markdown",
   "id": "3b0059a6",
   "metadata": {},
   "source": [
    "On en déduit les tables de dimensions suivantes:\n",
    "- client (client_nom, client_age, client_ville)\n",
    "- produit (produit_nom, produit_categorie, produit_marque, prix_catalogue)\n",
    "- magasin (magasin_nom, magasin_type, magasin_region)\n",
    "\n",
    "La table de fait contient les attributs: \n",
    "- id_transaction, date, quantite, montant_total\n"
   ]
  }
 ],
 "metadata": {
  "kernelspec": {
   "display_name": "spark_dbt",
   "language": "python",
   "name": "python3"
  },
  "language_info": {
   "codemirror_mode": {
    "name": "ipython",
    "version": 3
   },
   "file_extension": ".py",
   "mimetype": "text/x-python",
   "name": "python",
   "nbconvert_exporter": "python",
   "pygments_lexer": "ipython3",
   "version": "3.13.7"
  }
 },
 "nbformat": 4,
 "nbformat_minor": 5
}
